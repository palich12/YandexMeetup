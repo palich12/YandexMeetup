{
 "cells": [
  {
   "cell_type": "code",
   "execution_count": 136,
   "metadata": {},
   "outputs": [],
   "source": [
    "import math\n",
    "import random"
   ]
  },
  {
   "cell_type": "code",
   "execution_count": 137,
   "metadata": {},
   "outputs": [],
   "source": [
    "f= open(\"input.txt\",\"r\")\n",
    "# f= open(\"sdc_point_cloud.txt\",\"r\")\n",
    "data = f.readlines()\n",
    "f.close()\n",
    "p = float(data[0])\n",
    "N = int(data[1])\n",
    "points =  [ [ float(x) for x in d.split('\\t') ] for d in data[2:]]"
   ]
  },
  {
   "cell_type": "code",
   "execution_count": 144,
   "metadata": {},
   "outputs": [],
   "source": [
    "def point_h(x):\n",
    "    err = 0\n",
    "    for p in points:\n",
    "        val = abs(x[0]*p[0] + x[1]*p[1] + x[2]*p[2] + x[3]) / (x[0]**2 + x[1]**2+ x[2]**2) \n",
    "        err += math.log(val+1)\n",
    "    \n",
    "    return err"
   ]
  },
  {
   "cell_type": "code",
   "execution_count": 139,
   "metadata": {},
   "outputs": [],
   "source": [
    "def get_plane_by_points(p1, p2, p3):\n",
    "    x1 = p1[0]\n",
    "    y1 = p1[1]\n",
    "    z1 = p1[2]\n",
    "    x2 = p2[0]\n",
    "    y2 = p2[1]\n",
    "    z2 = p2[2]\n",
    "    x3 = p3[0]\n",
    "    y3 = p3[1]\n",
    "    z3 = p3[2]\n",
    "    A = y1* (z2 - z3) + y2* (z3 - z1) + y3* (z1 - z2) \n",
    "    B = z1* (x2 - x3) + z2* (x3 - x1) + z3* (x1 - x2) \n",
    "    C = x1* (y2 - y3) + x2* (y3 - y1) + x3* (y1 - y2) \n",
    "    D = x1* (y2* z3 - y3* z2) + x2* (y3* z1 - y1* z3) + x3* (y1* z2 - y2* z1)\n",
    "    D *= -1\n",
    "    \n",
    "    return [A,B,C,D]"
   ]
  },
  {
   "cell_type": "code",
   "execution_count": 140,
   "metadata": {},
   "outputs": [],
   "source": [
    "planes_count = min(N, 1000 )"
   ]
  },
  {
   "cell_type": "code",
   "execution_count": 141,
   "metadata": {},
   "outputs": [],
   "source": [
    "planes = []\n",
    "for i in range(planes_count):\n",
    "    pi1 = random.randint(0, (len(points) -1))\n",
    "    pi2 = random.randint(0, (len(points) -1))\n",
    "    pi3 = random.randint(0, (len(points) -1))\n",
    "    while( pi2 == pi1 ):\n",
    "        pi2 = (pi2+1) %  len(points)\n",
    "    pi3 = random.randint(0, (len(points) -1))\n",
    "    while(pi3 == pi1 or pi3 == pi2):\n",
    "        pi3 = (pi3+1) %  len(points)\n",
    "    val = 0\n",
    "    try:\n",
    "        factors = get_plane_by_points(points[pi1], points[pi2], points[pi3])\n",
    "        val = point_h(factors)\n",
    "    except Exception:\n",
    "        continue\n",
    "    else:\n",
    "        planes.append({\"factors\": factors, \"val\": val})"
   ]
  },
  {
   "cell_type": "code",
   "execution_count": 142,
   "metadata": {},
   "outputs": [],
   "source": [
    "res_plane = min(planes, key=lambda k: k['val']) "
   ]
  },
  {
   "cell_type": "code",
   "execution_count": 143,
   "metadata": {},
   "outputs": [
    {
     "name": "stdout",
     "output_type": "stream",
     "text": [
      "-1.000000 0.000000 100.000000 -0.000000 \n"
     ]
    }
   ],
   "source": [
    "res = \"\"\n",
    "for f in res_plane[\"factors\"]:\n",
    "    res += \"%0.6f \" % f\n",
    "print(res)"
   ]
  },
  {
   "cell_type": "code",
   "execution_count": null,
   "metadata": {},
   "outputs": [],
   "source": []
  },
  {
   "cell_type": "code",
   "execution_count": null,
   "metadata": {},
   "outputs": [],
   "source": []
  }
 ],
 "metadata": {
  "kernelspec": {
   "display_name": "Python 3",
   "language": "python",
   "name": "python3"
  },
  "language_info": {
   "codemirror_mode": {
    "name": "ipython",
    "version": 3
   },
   "file_extension": ".py",
   "mimetype": "text/x-python",
   "name": "python",
   "nbconvert_exporter": "python",
   "pygments_lexer": "ipython3",
   "version": "3.7.0"
  }
 },
 "nbformat": 4,
 "nbformat_minor": 2
}
